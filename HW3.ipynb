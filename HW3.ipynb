{
 "cells": [
  {
   "cell_type": "code",
   "execution_count": null,
   "metadata": {},
   "outputs": [],
   "source": [
    "#random bar diagram creator"
   ]
  },
  {
   "cell_type": "code",
   "execution_count": 6,
   "metadata": {},
   "outputs": [],
   "source": [
    "import numpy as np\n",
    "import random\n",
    "import matplotlib as plt\n",
    "import matplotlib.pyplot as plt"
   ]
  },
  {
   "cell_type": "code",
   "execution_count": 83,
   "metadata": {},
   "outputs": [
    {
     "data": {
      "image/png": "[encoded data removed]",
      "text/plain": [
       "<Figure size 720x720 with 6 Axes>"
      ]
     },
     "metadata": {
      "needs_background": "light"
     },
     "output_type": "display_data"
    }
   ],
   "source": [
    "#пишем массивы с заданными числами, дающими в сумме 100\n",
    "#формируем столбцы каждой из гистограмм\n",
    "x1 = np.arange(1, 7) - 0.75\n",
    "x2 = np.arange(1, 7) - 0.5\n",
    "x3 = np.arange(1, 7) - 0.25\n",
    "y1 = np.array([71, 4, 15, 2, 7, 1])\n",
    "y2 = np.array([57, 10, 18, 2, 6, 7])\n",
    "y3 = np.array([15, 22, 29, 9, 11, 14])\n",
    "y1_0 = np.array([52, 10, 19, 5, 10, 4])\n",
    "y2_0 = np.array([48, 21, 3, 19, 6, 3])\n",
    "y3_0 = np.array([62, 9, 8, 6, 4, 11])\n",
    "\n",
    "#задаём шесть разных графиков\n",
    "fig, axes = plt.subplots(3, 2)\n",
    "axes[0][0].bar(x1, y1, width = 0.2, color = 'blue')\n",
    "axes[0][0].bar(x2, y2, width = 0.2, color = 'red')\n",
    "axes[0][0].bar(x3, y3, width = 0.2, color = 'green')\n",
    "axes[0][0].grid(axis = 'y')\n",
    "axes[0][0].set_xticklabels(['', '', '', '', '', '', ''])\n",
    "\n",
    "axes[0][1].bar(x1, y1_0, width = 0.2, color = 'blue')\n",
    "axes[0][1].bar(x2, y2_0, width = 0.2, color = 'red')\n",
    "axes[0][1].bar(x3, y3_0, width = 0.2, color = 'green')\n",
    "axes[0][1].grid(axis = 'y')\n",
    "axes[0][1].set_xticklabels(['', '', '', '', '', '', ''])\n",
    "\n",
    "axes[1][0].bar(x1, y1, width = 0.2, color = 'blue')\n",
    "axes[1][0].bar(x2, y2, width = 0.2, color = 'red')\n",
    "axes[1][0].bar(x3, y3, width = 0.2, color = 'green')\n",
    "axes[1][0].grid(axis = 'y')\n",
    "axes[1][0].set_xticklabels(['', '', '', '', '', '', ''])\n",
    "\n",
    "axes[1][1].bar(x1, y1_0, width = 0.2, color = 'blue')\n",
    "axes[1][1].bar(x2, y2_0, width = 0.2, color = 'red')\n",
    "axes[1][1].bar(x3, y3_0, width = 0.2, color = 'green')\n",
    "axes[1][1].grid(axis = 'y')\n",
    "axes[1][1].set_xticklabels(['', '', '', '', '', '', ''])\n",
    "\n",
    "axes[2][0].bar(x1, y1, width = 0.2, color = 'blue')\n",
    "axes[2][0].bar(x2, y2, width = 0.2, color = 'red')\n",
    "axes[2][0].bar(x3, y3, width = 0.2, color = 'green')\n",
    "axes[2][0].grid(axis = 'y')\n",
    "axes[2][0].set_xticklabels(['', '', '', '', '', '', ''])\n",
    "\n",
    "axes[2][1].bar(x1, y1_0, width = 0.2, color = 'blue')\n",
    "axes[2][1].bar(x2, y2_0, width = 0.2, color = 'red')\n",
    "axes[2][1].bar(x3, y3_0, width = 0.2, color = 'green')\n",
    "axes[2][1].grid(axis = 'y')\n",
    "axes[2][1].set_xticklabels(['', '', '', '', '', '', ''])\n",
    "\n",
    "#строим легенду\n",
    "#plt.legend([y1, y2, y3], ['2010','2020','2025'])\n",
    "\n",
    "ax.plot(x1, y1, label = '2010')\n",
    "ax.plot(x2, y2, label = '2020')\n",
    "ax.plot(x3, y3, label = '2025')\n",
    "ax.legend(loc = 'best')\n",
    "\n",
    "#делаем заголовки столбцов и строк\n",
    "axes[0][0].set(title = 'Kapuas')\n",
    "axes[0][1].set(title = 'West Kotawaringin')\n",
    "axes[0][0].set_ylabel('BAU')\n",
    "axes[1][0].set_ylabel('EM')\n",
    "axes[2][0].set_ylabel('MPL')\n",
    "\n",
    "#задаём ширину и высоту картинки\n",
    "fig.set_figwidth(10)\n",
    "fig.set_figheight(10)\n",
    "axes[0][0].set_ylabel('BAU')\n",
    "\n",
    "#показываем результат\n",
    "plt.show()"
   ]
  },
  {
   "cell_type": "code",
   "execution_count": null,
   "metadata": {},
   "outputs": [],
   "source": []
  }
 ],
 "metadata": {
  "kernelspec": {
   "display_name": "Python 3",
   "language": "python",
   "name": "python3"
  },
  "language_info": {
   "codemirror_mode": {
    "name": "ipython",
    "version": 3
   },
   "file_extension": ".py",
   "mimetype": "text/x-python",
   "name": "python",
   "nbconvert_exporter": "python",
   "pygments_lexer": "ipython3",
   "version": "3.7.6"
  }
 },
 "nbformat": 4,
 "nbformat_minor": 4
}
